import pandas as pd
import panel as pn
from sqlalchemy import create_engine, text
from datetime import datetime

# Configurações de conexão
user = 'postgres'
senha = '8231'
host = 'localhost'
dbname = 'Hospital'
DATABASE_URL = f'postgresql://{user}:{senha}@{host}/{dbname}'

# Criar a conexão usando SQLAlchemy
cnx = create_engine(DATABASE_URL)

pn.extension()
pn.extension('tabulator')
pn.extension(notifications=True)




# Widget para selecionar o tipo de paciente
tipo_paciente = pn.widgets.Select(
    name='Selecione o Tipo de Paciente',
    options=['Criança', 'Gestante', 'Recem Nascido'],
    value = ''
)

# Função para consultar pacientes pelo tipo
def on_consultar_paciente_por_tipo(event):
    try:
        tipo_selecionado = tipo_paciente.value.strip()

        if not tipo_selecionado:
            return pn.pane.Alert('O tipo de paciente deve ser selecionado', alert_type='warning')

        # Consulta SQL para buscar pacientes pelo tipo
        query_consultar_paciente_por_tipo = text("""
            SET SCHEMA 'Hospital';
            SELECT * FROM Pacientes WHERE tipo = :tipo
        """)

        with cnx.connect() as connection:
            result = connection.execute(query_consultar_paciente_por_tipo, {'tipo': tipo_selecionado}).fetchall()

        if result:
            # Formatar os resultados em um DataFrame
            df = pd.DataFrame(result, columns=['ID', 'Nome', 'Data Nascimento', 'Nacionalidade', 'RG', 'CPF', 'Tipo'])
            return pn.pane.DataFrame(df, name='Resultados da Consulta', width=800)
        else:
            return pn.pane.Alert(f'Nenhum paciente do tipo {tipo_selecionado} foi encontrado.', alert_type='warning')

    except Exception as e:
        return pn.pane.Alert(f'Erro ao consultar: {str(e)}', alert_type='danger')

# Botão para acionar a consulta
buttonConsultarPorTipo = pn.widgets.Button(name='Consultar Pacientes por Tipo', button_type='primary')

# Bind da função de consulta ao botão
interactive_consulta_paciente_por_tipo = pn.bind(on_consultar_paciente_por_tipo, buttonConsultarPorTipo)

# Layout da consulta
layout_consulta_paciente_por_tipo = pn.Column(
    pn.pane.Markdown("### Consultar Pacientes pelo Tipo"),
    tipo_paciente,
    buttonConsultarPorTipo,
    interactive_consulta_paciente_por_tipo
)

# Exibir o layout da consulta
layout_consulta_paciente_por_tipo.servable()


#________________________________________________________________________________________________________________
# Widgets para inserção de pacientes
nome_paciente = pn.widgets.TextInput(name="Nome do Paciente")
data_nascimento = pn.widgets.DatePicker(name="Data de Nascimento")
nacionalidade = pn.widgets.TextInput(name="Nacionalidade")
rg = pn.widgets.TextInput(name="RG")
cpf = pn.widgets.TextInput(name="CPF")
tipo = pn.widgets.Select(name="Tipo", options=['Criança', 'Gestante', 'Recem Nascido'])
buttonInserirPaciente = pn.widgets.Button(name='Inserir Paciente', button_type='primary')

# Função para inserir paciente
def on_inserir_paciente(event):  # Adicione 'event' como argumento
    try:
        # Obter os valores dos widgets
        novo_nome = nome_paciente.value.strip()
        nova_data_nascimento = data_nascimento.value
        nova_nacionalidade = nacionalidade.value.strip()
        novo_rg = rg.value.strip()
        novo_cpf = cpf.value.strip()
        novo_tipo = tipo.value.strip()

        # Verificações básicas
        if not novo_nome or not nova_data_nascimento or not novo_cpf or not novo_tipo:
            return pn.pane.Alert('Todos os campos devem ser preenchidos', alert_type='warning')

        query_insert_paciente = text("""
           Set Schema 'Hospital';
                                      INSERT INTO Pacientes (nome, data_nascimento, nacionalidade, rg, cpf, tipo)
            VALUES (:nome, :data_nascimento, :nacionalidade, :rg, :cpf, :tipo)
        """)

        with cnx.connect() as connection:
            connection.execute(query_insert_paciente, {
                'nome': novo_nome,
                'data_nascimento': nova_data_nascimento,
                'nacionalidade': nova_nacionalidade,
                'rg': novo_rg,
                'cpf': novo_cpf,
                'tipo': novo_tipo
            })
            connection.commit()

        return pn.pane.Alert('Paciente inserido com sucesso!', alert_type='success')

    except Exception as e:
        return pn.pane.Alert(f'Erro ao inserir: {str(e)}', alert_type='danger')

# Bind da função de inserção 
interactive_infos_inserir = pn.bind(on_inserir_paciente, buttonInserirPaciente)
layout_inserir_paciente = pn.Column(
    pn.pane.Markdown("### Tela de Inserção de Pacientes"),
    nome_paciente,
    data_nascimento,
    nacionalidade,
    rg,
    cpf,
    tipo,
    buttonInserirPaciente,
    interactive_infos_inserir
)

layout_inserir_paciente.servable()
